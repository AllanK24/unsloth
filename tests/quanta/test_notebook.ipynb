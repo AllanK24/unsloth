{
 "cells": [
  {
   "cell_type": "code",
   "execution_count": 1,
   "id": "2a2624e5",
   "metadata": {},
   "outputs": [],
   "source": [
    "from quanta.quanta.quanta.tuners import QuanTAConfig\n",
    "from quanta.quanta.quanta.mapping import get_peft_model"
   ]
  },
  {
   "cell_type": "code",
   "execution_count": 1,
   "id": "05f1676c",
   "metadata": {},
   "outputs": [
    {
     "name": "stdout",
     "output_type": "stream",
     "text": [
      "🦥 Unsloth: Will patch your computer to enable 2x faster free finetuning.\n"
     ]
    },
    {
     "name": "stderr",
     "output_type": "stream",
     "text": [
      "/home/allank24/Programming/unsloth/.venv/lib/python3.12/site-packages/tqdm/auto.py:21: TqdmWarning: IProgress not found. Please update jupyter and ipywidgets. See https://ipywidgets.readthedocs.io/en/stable/user_install.html\n",
      "  from .autonotebook import tqdm as notebook_tqdm\n",
      "[torchao|WARNING]Skipping import of cpp extensions due to incompatible torch version 2.8.0+cu128 for torchao version 0.14.1             Please see https://github.com/pytorch/ao/issues/2919 for more info\n"
     ]
    },
    {
     "name": "stdout",
     "output_type": "stream",
     "text": [
      "INFO 10-31 09:41:39 [__init__.py:216] Automatically detected platform cuda.\n",
      "WARNING 10-31 09:41:40 [interface.py:381] Using 'pin_memory=False' as WSL is detected. This may slow down the performance.\n",
      "🦥 Unsloth Zoo will now patch everything to make training faster!\n",
      "INFO 10-31 09:42:13 [vllm_utils.py:694] Unsloth: Patching vLLM v1 graph capture\n",
      "Unsloth: Could not patch vLLM V0 graph capture: No module named 'vllm.worker.model_runner'\n",
      "==((====))==  Unsloth 2025.10.12: Fast Qwen3Mo patching. Transformers: 4.57.1. vLLM: 0.11.0.\n",
      "   \\\\   /|    NVIDIA GeForce RTX 3050 Laptop GPU. Num GPUs = 1. Max memory: 4.0 GB. Platform: Linux.\n",
      "O^O/ \\_/ \\    Torch: 2.8.0+cu128. CUDA: 8.6. CUDA Toolkit: 12.8. Triton: 3.4.0\n",
      "\\        /    Bfloat16 = TRUE. FA [Xformers = 0.0.32.post1. FA2 = False]\n",
      " \"-____-\"     Free license: http://github.com/unslothai/unsloth\n",
      "Unsloth: Fast downloading is enabled - ignore downloading bars which are red colored!\n",
      "Unsloth: vLLM loading unsloth/Qwen3-0.6B-Base with actual GPU utilization = 71.85%\n",
      "Unsloth: Your GPU has CUDA compute capability 8.6 with VRAM = 4.0 GB.\n",
      "Unsloth: Using conservativeness = 1.0. Chunked prefill tokens = 128. Num Sequences = 128.\n",
      "Unsloth: vLLM's KV Cache can use up to 1.92 GB. Also swap space = 0 GB.\n",
      "WARNING 10-31 09:42:20 [compilation.py:475] full_cuda_graph is deprecated, use cudagraph_mode=FULL instead.\n",
      "Unsloth: Not an error, but `device` is not supported in vLLM. Skipping.\n",
      "INFO 10-31 09:42:20 [utils.py:233] non-default args: {'dtype': torch.bfloat16, 'seed': 0, 'max_model_len': 128, 'enable_prefix_caching': True, 'swap_space': 0, 'gpu_memory_utilization': 0.7184617264106908, 'max_num_batched_tokens': 2048, 'max_num_seqs': 128, 'max_logprobs': 0, 'disable_log_stats': True, 'enable_lora': True, 'max_lora_rank': 8, 'enable_chunked_prefill': True, 'compilation_config': {\"level\":3,\"debug_dump_path\":\"\",\"cache_dir\":\"\",\"backend\":\"inductor\",\"custom_ops\":[],\"splitting_ops\":null,\"use_inductor\":true,\"compile_sizes\":null,\"inductor_compile_config\":{\"epilogue_fusion\":true,\"max_autotune\":false,\"shape_padding\":true,\"trace.enabled\":false,\"triton.cudagraphs\":true,\"debug\":false,\"dce\":true,\"memory_planning\":true,\"coordinate_descent_tuning\":false,\"trace.graph_diagram\":false,\"compile_threads\":16,\"group_fusion\":true,\"disable_progress\":false,\"verbose_progress\":true,\"triton.multi_kernel\":0,\"triton.use_block_ptr\":true,\"triton.enable_persistent_tma_matmul\":true,\"triton.autotune_at_compile_time\":false,\"triton.cooperative_reductions\":false,\"cuda.compile_opt_level\":\"-O2\",\"cuda.enable_cuda_lto\":true,\"combo_kernels\":false,\"benchmark_combo_kernel\":true,\"combo_kernel_foreach_dynamic_shapes\":true,\"enable_auto_functionalized_v2\":false},\"inductor_passes\":{},\"cudagraph_mode\":2,\"use_cudagraph\":true,\"cudagraph_num_of_warmups\":1,\"cudagraph_capture_sizes\":null,\"cudagraph_copy_inputs\":false,\"full_cuda_graph\":true,\"use_inductor_graph_partition\":false,\"pass_config\":{},\"max_capture_size\":null,\"local_cache_dir\":null}, 'model': 'unsloth/Qwen3-0.6B-Base'}\n",
      "INFO 10-31 09:42:22 [model.py:547] Resolved architecture: Qwen3ForCausalLM\n"
     ]
    },
    {
     "name": "stderr",
     "output_type": "stream",
     "text": [
      "`torch_dtype` is deprecated! Use `dtype` instead!\n"
     ]
    },
    {
     "name": "stdout",
     "output_type": "stream",
     "text": [
      "INFO 10-31 09:42:22 [model.py:1510] Using max model len 128\n"
     ]
    },
    {
     "name": "stderr",
     "output_type": "stream",
     "text": [
      "2025-10-31 09:42:22,536\tINFO util.py:154 -- Missing packages: ['ipywidgets']. Run `pip install -U ipywidgets`, then restart the notebook server for rich notebook output.\n"
     ]
    },
    {
     "name": "stdout",
     "output_type": "stream",
     "text": [
      "INFO 10-31 09:42:22 [scheduler.py:205] Chunked prefill is enabled with max_num_batched_tokens=2048.\n",
      "WARNING 10-31 09:42:22 [lora.py:92] `lora_extra_vocab_size` is deprecated and will be removed in v0.12.0. Additional vocabulary support for LoRA adapters is being phased out.\n",
      "INFO 10-31 09:42:23 [core.py:77] Initializing a V1 LLM engine (v0.11.0) with config: model='unsloth/Qwen3-0.6B-Base', speculative_config=None, tokenizer='unsloth/Qwen3-0.6B-Base', skip_tokenizer_init=False, tokenizer_mode=auto, revision=None, tokenizer_revision=None, trust_remote_code=False, dtype=torch.bfloat16, max_seq_len=128, download_dir=None, load_format=auto, tensor_parallel_size=1, pipeline_parallel_size=1, data_parallel_size=1, disable_custom_all_reduce=False, quantization=None, enforce_eager=False, kv_cache_dtype=auto, device_config=cuda, structured_outputs_config=StructuredOutputsConfig(backend='auto', disable_fallback=False, disable_any_whitespace=False, disable_additional_properties=False, reasoning_parser=''), observability_config=ObservabilityConfig(show_hidden_metrics_for_version=None, otlp_traces_endpoint=None, collect_detailed_traces=None), seed=0, served_model_name=unsloth/Qwen3-0.6B-Base, enable_prefix_caching=True, chunked_prefill_enabled=True, pooler_config=None, compilation_config={\"level\":3,\"debug_dump_path\":\"\",\"cache_dir\":\"\",\"backend\":\"inductor\",\"custom_ops\":[],\"splitting_ops\":[\"vllm.unified_attention\",\"vllm.unified_attention_with_output\",\"vllm.mamba_mixer2\",\"vllm.mamba_mixer\",\"vllm.short_conv\",\"vllm.linear_attention\",\"vllm.plamo2_mamba_mixer\",\"vllm.gdn_attention\",\"vllm.sparse_attn_indexer\"],\"use_inductor\":true,\"compile_sizes\":[],\"inductor_compile_config\":{\"epilogue_fusion\":true,\"max_autotune\":false,\"shape_padding\":true,\"trace.enabled\":false,\"triton.cudagraphs\":true,\"debug\":false,\"dce\":true,\"memory_planning\":true,\"coordinate_descent_tuning\":false,\"trace.graph_diagram\":false,\"compile_threads\":16,\"group_fusion\":true,\"disable_progress\":false,\"verbose_progress\":true,\"triton.multi_kernel\":0,\"triton.use_block_ptr\":true,\"triton.enable_persistent_tma_matmul\":true,\"triton.autotune_at_compile_time\":false,\"triton.cooperative_reductions\":false,\"cuda.compile_opt_level\":\"-O2\",\"cuda.enable_cuda_lto\":true,\"combo_kernels\":false,\"benchmark_combo_kernel\":true,\"combo_kernel_foreach_dynamic_shapes\":true,\"enable_auto_functionalized_v2\":false},\"inductor_passes\":{},\"cudagraph_mode\":2,\"use_cudagraph\":true,\"cudagraph_num_of_warmups\":1,\"cudagraph_capture_sizes\":[256,248,240,232,224,216,208,200,192,184,176,168,160,152,144,136,128,120,112,104,96,88,80,72,64,56,48,40,32,24,16,8,4,2,1],\"cudagraph_copy_inputs\":false,\"full_cuda_graph\":true,\"use_inductor_graph_partition\":false,\"pass_config\":{},\"max_capture_size\":256,\"local_cache_dir\":null}\n",
      "[Gloo] Rank 0 is connected to 0 peer ranks. Expected number of connected peer ranks is : 0\n",
      "[Gloo] Rank 0 is connected to 0 peer ranks. Expected number of connected peer ranks is : 0\n",
      "[Gloo] Rank 0 is connected to 0 peer ranks. Expected number of connected peer ranks is : 0\n",
      "[Gloo] Rank 0 is connected to 0 peer ranks. Expected number of connected peer ranks is : 0\n",
      "[Gloo] Rank 0 is connected to 0 peer ranks. Expected number of connected peer ranks is : 0\n",
      "[Gloo] Rank 0 is connected to 0 peer ranks. Expected number of connected peer ranks is : 0\n",
      "INFO 10-31 09:42:23 [parallel_state.py:1208] rank 0 in world size 1 is assigned as DP rank 0, PP rank 0, TP rank 0, EP rank 0\n",
      "WARNING 10-31 09:42:24 [topk_topp_sampler.py:66] FlashInfer is not available. Falling back to the PyTorch-native implementation of top-p & top-k sampling. For the best performance, please install FlashInfer.\n",
      "INFO 10-31 09:42:24 [gpu_model_runner.py:2602] Starting to load model unsloth/Qwen3-0.6B-Base...\n",
      "INFO 10-31 09:42:24 [gpu_model_runner.py:2634] Loading model from scratch...\n",
      "INFO 10-31 09:42:24 [cuda.py:366] Using Flash Attention backend on V1 engine.\n",
      "INFO 10-31 09:42:25 [weight_utils.py:392] Using model weights format ['*.safetensors']\n",
      "INFO 10-31 09:42:26 [weight_utils.py:450] No model.safetensors.index.json found in remote.\n"
     ]
    },
    {
     "name": "stderr",
     "output_type": "stream",
     "text": [
      "Loading safetensors checkpoint shards:   0% Completed | 0/1 [00:00<?, ?it/s]\n",
      "Loading safetensors checkpoint shards: 100% Completed | 1/1 [00:02<00:00,  2.16s/it]\n",
      "Loading safetensors checkpoint shards: 100% Completed | 1/1 [00:02<00:00,  2.16s/it]\n"
     ]
    },
    {
     "name": "stdout",
     "output_type": "stream",
     "text": [
      "INFO 10-31 09:42:28 [default_loader.py:267] Loading weights took 2.21 seconds\n",
      "INFO 10-31 09:42:28 [punica_selector.py:19] Using PunicaWrapperGPU.\n"
     ]
    },
    {
     "name": "stderr",
     "output_type": "stream",
     "text": [
      "\n"
     ]
    },
    {
     "name": "stdout",
     "output_type": "stream",
     "text": [
      "INFO 10-31 09:42:29 [gpu_model_runner.py:2653] Model loading took 1.1347 GiB and 4.019942 seconds\n",
      "INFO 10-31 09:42:37 [backends.py:548] Using cache directory: /home/allank24/.cache/vllm/torch_compile_cache/5a7c30a611/rank_0_0/backbone for vLLM's torch.compile\n",
      "INFO 10-31 09:42:37 [backends.py:559] Dynamo bytecode transform time: 7.64 s\n",
      "INFO 10-31 09:42:41 [backends.py:164] Directly load the compiled graph(s) for dynamic shape from the cache, took 2.348 s\n",
      "INFO 10-31 09:42:43 [monitor.py:34] torch.compile takes 7.64 s in total\n",
      "INFO 10-31 09:42:44 [gpu_worker.py:298] Available KV cache memory: 1.02 GiB\n",
      "INFO 10-31 09:42:45 [kv_cache_utils.py:1087] GPU KV cache size: 9,536 tokens\n",
      "INFO 10-31 09:42:45 [kv_cache_utils.py:1091] Maximum concurrency for 128 tokens per request: 74.50x\n",
      "INFO 10-31 09:42:45 [vllm_utils.py:699] Unsloth: Running patched vLLM v1 `capture_model`.\n",
      "WARNING 10-31 09:42:45 [gpu_model_runner.py:3643] CUDAGraphMode.FULL is not supported with FlashAttentionMetadataBuilder backend (support: AttentionCGSupport.UNIFORM_BATCH); setting cudagraph_mode=FULL_AND_PIECEWISE\n"
     ]
    },
    {
     "name": "stderr",
     "output_type": "stream",
     "text": [
      "Capturing CUDA graphs (mixed prefill-decode, PIECEWISE): 100%|██████████| 35/35 [00:03<00:00,  9.26it/s]\n",
      "Capturing CUDA graphs (decode, FULL): 100%|██████████| 19/19 [00:01<00:00,  9.75it/s]"
     ]
    },
    {
     "name": "stdout",
     "output_type": "stream",
     "text": [
      "INFO 10-31 09:42:50 [gpu_model_runner.py:3480] Graph capturing finished in 6 secs, took 0.43 GiB\n",
      "INFO 10-31 09:42:50 [vllm_utils.py:706] Unsloth: Patched vLLM v1 graph capture finished in 6 secs.\n"
     ]
    },
    {
     "name": "stderr",
     "output_type": "stream",
     "text": [
      "\n"
     ]
    },
    {
     "name": "stdout",
     "output_type": "stream",
     "text": [
      "INFO 10-31 09:42:52 [core.py:210] init engine (profile, create kv cache, warmup model) took 22.57 seconds\n",
      "INFO 10-31 09:42:53 [llm.py:306] Supported_tasks: ('generate',)\n",
      "Unsloth: Just some info: will skip parsing ['q_norm', 'post_attention_layernorm', 'input_layernorm', 'post_feedforward_layernorm', 'norm2', 'pre_feedforward_layernorm', 'layer_norm1', 'layer_norm2', 'attention_norm', 'ffn_norm', 'k_norm', 'post_layernorm', 'norm1']\n",
      "Unsloth: Just some info: will skip parsing ['q_norm', 'post_attention_layernorm', 'input_layernorm', 'post_feedforward_layernorm', 'norm2', 'pre_feedforward_layernorm', 'layer_norm1', 'layer_norm2', 'attention_norm', 'cross_attn_post_attention_layernorm', 'ffn_norm', 'cross_attn_input_layernorm', 'k_norm', 'post_layernorm', 'norm1']\n"
     ]
    }
   ],
   "source": [
    "from unsloth import FastLanguageModelV2\n",
    "\n",
    "max_seq_length = 128 # Can increase for longer reasoning traces\n",
    "lora_rank = 8 # Larger rank = smarter, but slower\n",
    "\n",
    "model, tokenizer = FastLanguageModelV2.from_pretrained(\n",
    "    model_name = \"Qwen/Qwen3-0.6B-Base\",\n",
    "    max_seq_length = max_seq_length,\n",
    "    load_in_4bit = False,\n",
    "    fast_inference = True, # Enable vLLM fast inference\n",
    "    max_lora_rank = lora_rank,\n",
    "    gpu_memory_utilization = 0.9, # Reduce if out of memory\n",
    ")"
   ]
  },
  {
   "cell_type": "code",
   "execution_count": 2,
   "id": "565e161f",
   "metadata": {},
   "outputs": [
    {
     "name": "stdout",
     "output_type": "stream",
     "text": [
      "QuanTA Config Initialized: QuanTAConfig(peft_type=<PeftType.QUANTA: 'QUANTA'>, base_model_name_or_path=None, task_type=None, inference_mode=False, d=2, quanta_dropout=0.0, merge_weights=False, fan_in_fan_out=False, per_dim_features=None, per_dim_features2=None, sum_mode=False, initialize_mode='sum_opposite_freeze_one', bias='none', target_modules=['q_proj'], enable_lora=None, tensor_rank=5)\n"
     ]
    },
    {
     "name": "stderr",
     "output_type": "stream",
     "text": [
      "/home/allank24/Programming/unsloth/quanta/quanta/quanta/tuners/quanta.py:287: UserWarning: per_dim_features=[46, 46] does not match in_features=1024, this should work but may result in downgraded performance or additional cost. Please make sure this is intended.\n",
      "  warnings.warn(\n",
      "/home/allank24/Programming/unsloth/quanta/quanta/quanta/tuners/quanta.py:290: UserWarning: per_dim_features2=[46, 46] does not match out_features=2048, this should work but may result in downgraded performance or additional cost. Please make sure this is intended.\n",
      "  warnings.warn(\n"
     ]
    }
   ],
   "source": [
    "model = FastLanguageModelV2.get_quanta_model(\n",
    "    model,\n",
    "    d=2,\n",
    "    target_modules=[\"q_proj\"],\n",
    "    use_gradient_checkpointing = \"unsloth\", # Enable long context finetuning\n",
    "    random_state = 3407,\n",
    ")"
   ]
  },
  {
   "cell_type": "code",
   "execution_count": 3,
   "id": "39087c14",
   "metadata": {},
   "outputs": [
    {
     "data": {
      "text/plain": [
       "PeftModel(\n",
       "  (base_model): QuanTAModel(\n",
       "    (model): Qwen3ForCausalLM(\n",
       "      (model): Qwen3Model(\n",
       "        (embed_tokens): Embedding(151936, 1024, padding_idx=151654)\n",
       "        (layers): ModuleList(\n",
       "          (0-27): 28 x Qwen3DecoderLayer(\n",
       "            (self_attn): Qwen3Attention(\n",
       "              (q_proj): Linear(\n",
       "                in_features=1024, out_features=2048, bias=False\n",
       "                (merged): MergeBuffer()\n",
       "                (frozen_merged): MergeBuffer()\n",
       "                (quanta_weights): ParameterDict(  (-1 -2): Parameter containing: [torch.cuda.FloatTensor of size 46x46x46x46 (cuda:0)])\n",
       "                (quanta_weights2): BufferDict()\n",
       "              )\n",
       "              (k_proj): Linear(in_features=1024, out_features=1024, bias=False)\n",
       "              (v_proj): Linear(in_features=1024, out_features=1024, bias=False)\n",
       "              (o_proj): Linear(in_features=2048, out_features=1024, bias=False)\n",
       "              (q_norm): Qwen3RMSNorm((128,), eps=1e-06)\n",
       "              (k_norm): Qwen3RMSNorm((128,), eps=1e-06)\n",
       "              (rotary_emb): LlamaRotaryEmbedding()\n",
       "            )\n",
       "            (mlp): Qwen3MLP(\n",
       "              (gate_proj): Linear(in_features=1024, out_features=3072, bias=False)\n",
       "              (up_proj): Linear(in_features=1024, out_features=3072, bias=False)\n",
       "              (down_proj): Linear(in_features=3072, out_features=1024, bias=False)\n",
       "              (act_fn): SiLUActivation()\n",
       "            )\n",
       "            (input_layernorm): Qwen3RMSNorm((1024,), eps=1e-06)\n",
       "            (post_attention_layernorm): Qwen3RMSNorm((1024,), eps=1e-06)\n",
       "          )\n",
       "        )\n",
       "        (norm): Qwen3RMSNorm((1024,), eps=1e-06)\n",
       "        (rotary_emb): LlamaRotaryEmbedding()\n",
       "      )\n",
       "      (lm_head): Linear(in_features=1024, out_features=151936, bias=False)\n",
       "    )\n",
       "  )\n",
       ")"
      ]
     },
     "execution_count": 3,
     "metadata": {},
     "output_type": "execute_result"
    }
   ],
   "source": [
    "model"
   ]
  },
  {
   "cell_type": "markdown",
   "id": "595cf130",
   "metadata": {},
   "source": [
    "### vLLM Inspection"
   ]
  },
  {
   "cell_type": "code",
   "execution_count": 4,
   "id": "6bf0a003",
   "metadata": {},
   "outputs": [
    {
     "name": "stdout",
     "output_type": "stream",
     "text": [
      "{'has_vllm_engine': True, 'has_fast_generate': True, 'has_fast_generate_batches': True}\n"
     ]
    }
   ],
   "source": [
    "def is_vllm_enabled(peft_model):\n",
    "    flags = {\n",
    "        \"has_vllm_engine\": hasattr(peft_model, \"vllm_engine\")\n",
    "                           and peft_model.vllm_engine is not None,\n",
    "        \"has_fast_generate\": hasattr(peft_model, \"fast_generate\")\n",
    "                             and callable(getattr(peft_model, \"fast_generate\")),\n",
    "        \"has_fast_generate_batches\": hasattr(peft_model, \"fast_generate_batches\")\n",
    "                                     and callable(getattr(peft_model, \"fast_generate_batches\")),\n",
    "    }\n",
    "    print(flags)\n",
    "    return all(flags.values())\n",
    "\n",
    "ok = is_vllm_enabled(model)"
   ]
  },
  {
   "cell_type": "code",
   "execution_count": null,
   "id": "a5871b49",
   "metadata": {},
   "outputs": [],
   "source": []
  }
 ],
 "metadata": {
  "kernelspec": {
   "display_name": ".venv",
   "language": "python",
   "name": "python3"
  },
  "language_info": {
   "codemirror_mode": {
    "name": "ipython",
    "version": 3
   },
   "file_extension": ".py",
   "mimetype": "text/x-python",
   "name": "python",
   "nbconvert_exporter": "python",
   "pygments_lexer": "ipython3",
   "version": "3.12.3"
  }
 },
 "nbformat": 4,
 "nbformat_minor": 5
}
